{
  "nbformat": 4,
  "nbformat_minor": 0,
  "metadata": {
    "colab": {
      "provenance": []
    },
    "kernelspec": {
      "name": "python3",
      "display_name": "Python 3"
    },
    "language_info": {
      "name": "python"
    }
  },
  "cells": [
    {
      "cell_type": "markdown",
      "source": [
        "#Workshop I - System Analysis"
      ],
      "metadata": {
        "id": "iVK6lwNVtTyN"
      }
    },
    {
      "cell_type": "markdown",
      "source": [
        "1. First, a function to generate a sequence based on typical for DNA nucleotid bases is created. Here the idea is to use random numbers to get a random sequence of a random size (between 10 and 20.)"
      ],
      "metadata": {
        "id": "XULf-dcCtmQb"
      }
    },
    {
      "cell_type": "code",
      "execution_count": null,
      "metadata": {
        "id": "r_b4hixe70A9"
      },
      "outputs": [],
      "source": [
        "import random\n",
        "\n",
        "\n",
        "def create_sequence() -> str:\n",
        "    \"\"\"\n",
        "    This function is used to generate a random genetic sequence.\n",
        "\n",
        "    Returns:\n",
        "    - str: random genetic sequence\n",
        "    \"\"\"\n",
        "    nucleotid_bases = [\"A\", \"C\", \"G\", \"T\"]\n",
        "    size_sequence = random.randint(10, 20)\n",
        "    new_sequence = [nucleotid_bases[random.randint(0, 3)] for i in range(size_sequence)]\n",
        "    return \"\".join(new_sequence)"
      ]
    },
    {
      "cell_type": "markdown",
      "source": [
        "2. Based on create_sequences() function, the idea is to generate a dataset of genetic sequences, just persisting all sequences into a list."
      ],
      "metadata": {
        "id": "9tafuRd2tpwH"
      }
    },
    {
      "cell_type": "code",
      "source": [
        "def create_dataset(dataset_size: int) -> list:\n",
        "    \"\"\"\n",
        "    This function is used to create a dataset composed by a set of genetic sequences.\n",
        "\n",
        "    Parameters:\n",
        "    - dataset_size (int): size of the dummy dataset to be generated.\n",
        "\n",
        "    Returns:\n",
        "    - list: a list of genetic sequences\n",
        "    \"\"\"\n",
        "    dataset = [create_sequence() for i in range(dataset_size)]\n",
        "    return dataset"
      ],
      "metadata": {
        "id": "Kwrqezf-8DWR"
      },
      "execution_count": null,
      "outputs": []
    },
    {
      "cell_type": "markdown",
      "source": [
        "3. As the goal is to get the motif in the sequence, first task for that purpose is to generate all possible combinations of secuences of an specific size."
      ],
      "metadata": {
        "id": "Jw_suUBBttG3"
      }
    },
    {
      "cell_type": "code",
      "source": [
        "def get_combinations(n: int, sequences: list, bases: list) -> list:\n",
        "    \"\"\"\n",
        "    This method is used to generate a set of combinations based on a list of nucleotid bases.\n",
        "    To make easy the process, this function is defined as a recurssion.\n",
        "\n",
        "    Parameters:\n",
        "    - n (int): amount of elements of each combination\n",
        "    - sequences (list): list of recursive sequences obtained\n",
        "    - bases (list): list of nucleotid bases to be used\n",
        "\n",
        "    Returns:\n",
        "    - list: list of combinations\n",
        "    \"\"\"\n",
        "    if n == 1:\n",
        "        return [sequence + base for sequence in sequences for base in bases]\n",
        "    else:\n",
        "        sequence_ = [sequence + base for sequence in sequences for base in bases]\n",
        "        return get_combinations(n - 1, sequence_, bases)"
      ],
      "metadata": {
        "id": "TYY__HhD8M1h"
      },
      "execution_count": null,
      "outputs": []
    },
    {
      "cell_type": "markdown",
      "source": [
        "4. Each motif candidate should be verified into each sequence in the dataset, just to count the motif occurences."
      ],
      "metadata": {
        "id": "O46yWbEbt4Dl"
      }
    },
    {
      "cell_type": "code",
      "source": [
        "def count_motif(motif: str, sequences_dataset: list) -> int:\n",
        "    \"\"\"\n",
        "    This function is used to count the number of times a motif appears in a set of genetic sequences.\n",
        "\n",
        "    Parameters:\n",
        "    - motif (str): genetic motif to be searched.\n",
        "    - sequences_dataset (list): list of genetic sequences.\n",
        "\n",
        "    Returns:\n",
        "    - int: number of times the motif appears in the dataset.\n",
        "    \"\"\"\n",
        "    count = 0\n",
        "    for sequence in sequences_dataset:\n",
        "        count += sequence.count(motif)\n",
        "    return count"
      ],
      "metadata": {
        "id": "gvLIS6tf8TU6"
      },
      "execution_count": null,
      "outputs": []
    },
    {
      "cell_type": "markdown",
      "source": [
        "5. Now it is time to get all motif candidates (combinations of a specific size), count occurrences for each motif, and choose as the motif winner the only one who has more ocurreces."
      ],
      "metadata": {
        "id": "sQurGc9St70Z"
      }
    },
    {
      "cell_type": "code",
      "source": [
        "from typing import Union\n",
        "def get_motif(motif_size: int, sequences_dataset: list) -> Union[str, int]:\n",
        "    \"\"\"\n",
        "    This function is used to get the motif with the highest count in a set of genetic sequences.\n",
        "\n",
        "    Parameters:\n",
        "    - motif_size (int): size of the motif to be searched.\n",
        "    - sequences_db (list): list of genetic sequences.\n",
        "\n",
        "    Returns:\n",
        "    - (str, int): motif with the highest count and the number of times it appears in the dataset.\n",
        "    \"\"\"\n",
        "    nucleotid_bases = [\"A\", \"C\", \"G\", \"T\"]\n",
        "    combinations = get_combinations(motif_size, [\"\"], nucleotid_bases)\n",
        "    # get motif with the highest count\n",
        "    max_counter = 0\n",
        "    motif_winner = \"\"\n",
        "    for motif_candidate in combinations:\n",
        "        temp_counter = count_motif(motif_candidate, sequences_dataset)\n",
        "        if temp_counter > max_counter:\n",
        "            max_counter = temp_counter\n",
        "            motif_winner = motif_candidate\n",
        "\n",
        "    return motif_winner, max_counter"
      ],
      "metadata": {
        "id": "kyVS55L28ZG3"
      },
      "execution_count": null,
      "outputs": []
    },
    {
      "cell_type": "markdown",
      "source": [
        "6. Now, just a loop of callings looking for some different motifs, in order you have a better idea about possible motifs and occurences, so you could make a better analysis. Also, motifs of size 6 and 8 will be generated."
      ],
      "metadata": {
        "id": "4Hw6LqpRt-a5"
      }
    },
    {
      "cell_type": "code",
      "source": [
        "for size in [6, 8]:\n",
        "    print(f\"\\nMotifs of size: {size}\")\n",
        "    for i in range(3):\n",
        "        print(get_motif(size, create_dataset(50000)))"
      ],
      "metadata": {
        "colab": {
          "base_uri": "https://localhost:8080/"
        },
        "id": "v09qPHxW-xjO",
        "outputId": "554a311b-b76d-43a3-9280-9d8bd0d2ea8d"
      },
      "execution_count": null,
      "outputs": [
        {
          "output_type": "stream",
          "name": "stdout",
          "text": [
            "\n",
            "Motifs of size: 6\n",
            "('ACGGGT', 3)\n",
            "('ATGACT', 3)\n",
            "('AACCAA', 2)\n",
            "('ACGCGC', 5)\n",
            "('CTCAGC', 3)\n",
            "('ACAATA', 3)\n",
            "('AACAAC', 3)\n",
            "('ACACCC', 2)\n",
            "('CTATCT', 3)\n",
            "('CGTCCC', 3)\n",
            "\n",
            "Motifs of size: 8\n",
            "('CCGTCCGT', 2)\n",
            "('ACCCATGA', 2)\n",
            "('AAACGAGA', 1)\n",
            "('AACTAATA', 2)\n",
            "('CTTCTCCT', 2)\n",
            "('TGCTGTAA', 2)\n",
            "('GAAAGCCG', 2)\n",
            "('GTGGCCAG', 2)\n",
            "('CAAACTAT', 2)\n",
            "('CGACAGTC', 2)\n"
          ]
        }
      ]
    },
    {
      "cell_type": "markdown",
      "source": [
        "7. Now, as the idea is to define how Shannon Entropy could help us to filter maybe not relevant sequences in order to get more relevant motifs. You could check equation here."
      ],
      "metadata": {
        "id": "DCM5eWhyuCu-"
      }
    },
    {
      "cell_type": "code",
      "source": [
        "import math\n",
        "\n",
        "\n",
        "def calculate_shannon_entrophy(sequence: str) -> float:\n",
        "    \"\"\"\n",
        "    This function is used to calculate the Shannon Entropy of a genetic sequence.\n",
        "\n",
        "    Parameters:\n",
        "    - sequence (str): genetic sequence.\n",
        "\n",
        "    Returns:\n",
        "    - float: Shannon Entropy of the sequence.\n",
        "    \"\"\"\n",
        "    counts = {}\n",
        "    total = 0\n",
        "    for base in sequence:\n",
        "        counts[base] = counts.get(base, 0) + 1\n",
        "        total += 1\n",
        "\n",
        "    entrophy = 0\n",
        "    for count in counts.values():\n",
        "        probability = count / total\n",
        "        entrophy -= probability * math.log2(probability)\n",
        "\n",
        "    return entrophy"
      ],
      "metadata": {
        "id": "fKe_qhYhBFFn"
      },
      "execution_count": null,
      "outputs": []
    },
    {
      "cell_type": "markdown",
      "source": [
        "8. As a Shannon Entropy Calculation function is created, it is possible to make a dataset filter before to check for motifs."
      ],
      "metadata": {
        "id": "qCTt7U4kuF3I"
      }
    },
    {
      "cell_type": "code",
      "source": [
        "def filter_shannon(sequence: str, threshold: float) -> bool:\n",
        "    \"\"\"\n",
        "    This function is used to filter genetic sequences based on their Shannon Entropy.\n",
        "\n",
        "    Parameters:\n",
        "    - sequence (str): genetic sequence.\n",
        "    - threshold (float): the threshold value for entropy filtering.\n",
        "\n",
        "    Returns:\n",
        "    - bool: True if the sequence passes the filter, False otherwise.\n",
        "    \"\"\"\n",
        "    entrophy = calculate_shannon_entrophy(sequence)\n",
        "    return entrophy >= threshold"
      ],
      "metadata": {
        "id": "gjvgDzQ8DE-j"
      },
      "execution_count": null,
      "outputs": []
    },
    {
      "cell_type": "markdown",
      "source": [
        "9. Last part of the workshop, it is just filter sequences in the full motif search process."
      ],
      "metadata": {
        "id": "P0ZAjVQLuIc3"
      }
    },
    {
      "cell_type": "code",
      "source": [
        "entropy_threshold = 0.5\n",
        "for size in [6, 8]:\n",
        "    print(f\"\\nAfter filter, motifs of size: {size}\")\n",
        "    for i in range(10):\n",
        "        dataset = create_dataset(50000)\n",
        "        dataset = [seq for seq in dataset if filter_shannon(seq, entropy_threshold)]\n",
        "        print(f\"Dataset size: {len(dataset)}, Motif: {get_motif(size, dataset)}\")"
      ],
      "metadata": {
        "colab": {
          "base_uri": "https://localhost:8080/"
        },
        "id": "HCzjmO_knbi6",
        "outputId": "df021469-45c6-4fa7-d020-3c1d744fb93b"
      },
      "execution_count": null,
      "outputs": [
        {
          "output_type": "stream",
          "name": "stdout",
          "text": [
            "\n",
            "After filter, motifs of size: 6\n",
            "Dataset size: 50000, Motif: ('GCCCCA', 164)\n",
            "Dataset size: 50000, Motif: ('GTTGGC', 162)\n",
            "Dataset size: 49998, Motif: ('CTGGTT', 161)\n",
            "Dataset size: 49999, Motif: ('AGCGGG', 163)\n",
            "Dataset size: 49998, Motif: ('CACTGG', 166)\n",
            "Dataset size: 50000, Motif: ('CCAGAT', 169)\n",
            "Dataset size: 49998, Motif: ('GCGTAA', 159)\n",
            "Dataset size: 50000, Motif: ('GGTAGT', 160)\n",
            "Dataset size: 49999, Motif: ('ACAGAT', 168)\n",
            "Dataset size: 49999, Motif: ('GCTAGA', 174)\n",
            "\n",
            "After filter, motifs of size: 8\n",
            "Dataset size: 49998, Motif: ('ACTGAAAG', 22)\n",
            "Dataset size: 49998, Motif: ('GGGCTGAG', 21)\n",
            "Dataset size: 49999, Motif: ('GAATGCCA', 20)\n",
            "Dataset size: 50000, Motif: ('GGTAAGAA', 20)\n",
            "Dataset size: 49999, Motif: ('TTCGCACC', 20)\n",
            "Dataset size: 50000, Motif: ('GCTTGGGC', 19)\n",
            "Dataset size: 49999, Motif: ('GTCCGCGA', 21)\n",
            "Dataset size: 49999, Motif: ('CATCAGGT', 19)\n",
            "Dataset size: 49999, Motif: ('TAGTCAAT', 20)\n",
            "Dataset size: 50000, Motif: ('ACTTTGTT', 21)\n"
          ]
        }
      ]
    }
  ]
}